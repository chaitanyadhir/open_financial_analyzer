{
 "cells": [
  {
   "cell_type": "code",
   "execution_count": 9,
   "metadata": {},
   "outputs": [],
   "source": [
    "import os\n",
    "import json\n",
    "import re\n",
    "import google.generativeai as genai\n",
    "from langchain.document_loaders import PyPDFLoader\n",
    "from langchain.embeddings import HuggingFaceEmbeddings\n",
    "from langchain.vectorstores import FAISS\n",
    "import pypdf\n",
    "from dotenv import load_dotenv\n",
    "from transformers import pipeline"
   ]
  },
  {
   "cell_type": "code",
   "execution_count": 3,
   "metadata": {},
   "outputs": [],
   "source": [
    "def extract_text_from_pdf(pdf_path):\n",
    "    loader = PyPDFLoader(pdf_path)\n",
    "    documents = loader.load()\n",
    "    text = \" \".join([doc.page_content for doc in documents])\n",
    "    return text\n",
    "\n",
    "pdf_files = [\n",
    "    \"data/1_FinancialResults_05022025142214.pdf\",\n",
    "    \"data/Amaar raja Earnings Summary.pdf\"\n",
    "]\n",
    "\n",
    "pdf_texts = {pdf: extract_text_from_pdf(pdf) for pdf in pdf_files}\n"
   ]
  },
  {
   "cell_type": "code",
   "execution_count": 4,
   "metadata": {},
   "outputs": [],
   "source": [
    "from langchain_huggingface import HuggingFaceEmbeddings \n",
    "embeddings = HuggingFaceEmbeddings(model_name=\"BAAI/bge-large-en\")"
   ]
  },
  {
   "cell_type": "code",
   "execution_count": 5,
   "metadata": {},
   "outputs": [],
   "source": [
    "vectorstore = FAISS.from_texts(list(pdf_texts.values()), embeddings)"
   ]
  },
  {
   "cell_type": "code",
   "execution_count": 7,
   "metadata": {},
   "outputs": [],
   "source": [
    "\n",
    "retriever = vectorstore.as_retriever()"
   ]
  },
  {
   "cell_type": "code",
   "execution_count": 8,
   "metadata": {},
   "outputs": [],
   "source": [
    "def clean_gemini_response(response):\n",
    "    \"\"\"\n",
    "    Cleans Gemini's response to correct formatting issues before JSON parsing.\n",
    "    - Fixes incorrect number formatting.\n",
    "    - Replaces \":\" in numbers with \".\".\n",
    "    - Fixes incorrectly formatted financial periods.\n",
    "    \"\"\"\n",
    "    if not response or not response.strip():\n",
    "        return '{\"error\": \"No data extracted\"}'\n",
    "    \n",
    "    response = re.sub(r'(\\d):(\\d)', r'\\1.\\2', response)\n",
    "    response = response.replace('(31(12/2024)', '(31/12/2024)')\n",
    "    \n",
    "    return response"
   ]
  },
  {
   "cell_type": "code",
   "execution_count": null,
   "metadata": {},
   "outputs": [
    {
     "name": "stderr",
     "output_type": "stream",
     "text": [
      "c:\\projects\\financial\\venv\\lib\\site-packages\\huggingface_hub\\file_download.py:142: UserWarning: `huggingface_hub` cache-system uses symlinks by default to efficiently store duplicated files but your machine does not support them in C:\\Users\\Lenovo\\.cache\\huggingface\\hub\\models--mistralai--Mistral-7B-v0.1. Caching files will still work but in a degraded version that might require more space on your disk. This warning can be disabled by setting the `HF_HUB_DISABLE_SYMLINKS_WARNING` environment variable. For more details, see https://huggingface.co/docs/huggingface_hub/how-to-cache#limitations.\n",
      "To support symlinks on Windows, you either need to activate Developer Mode or to run Python as an administrator. In order to activate developer mode, see this article: https://docs.microsoft.com/en-us/windows/apps/get-started/enable-your-device-for-development\n",
      "  warnings.warn(message)\n",
      "Downloading shards:   0%|          | 0/2 [00:00<?, ?it/s]"
     ]
    }
   ],
   "source": [
    "from transformers import pipeline\n",
    "from huggingface_hub import login\n",
    "\n",
    "# Authenticate (only needed once per session)\n",
    "login(token=\"Your hugging face token\")\n",
    "\n",
    "# Load model with authentication\n",
    "llm_pipeline = pipeline(\n",
    "    \"text-generation\",\n",
    "    model=\"mistralai/Mistral-7B-v0.1\",\n",
    "    token=\"Your hugging face token\"\n",
    ")\n"
   ]
  },
  {
   "cell_type": "code",
   "execution_count": null,
   "metadata": {},
   "outputs": [],
   "source": [
    "def extract_financial_data(text):\n",
    "    query = f\"\"\"\n",
    "    You are an AI tasked with extracting financial details from a report.\n",
    "    \n",
    "    Extract and return the following details as a **valid JSON object**:\n",
    "    - Company Name\n",
    "    - Report Date\n",
    "    - Profit Before Tax\n",
    "    - Revenue\n",
    "    - Total Expenses\n",
    "    - Net Profit\n",
    "    - Tax Expense\n",
    "    - Any declared Dividends (if available)\n",
    "\n",
    "    Report:\n",
    "    {text}\n",
    "\n",
    "    **Output must be strictly in JSON format.** \n",
    "    \"\"\"\n",
    "\n",
    "    response = query_open_source_llm(query)\n",
    "\n",
    "    if not response or not response.strip():\n",
    "        print(\"❌ LLM returned an empty response! Check model.\")\n",
    "        return {\"error\": \"No data extracted\"}\n",
    "\n",
    "    cleaned_response = clean_gemini_response(response)  # Keep your existing cleaning logic\n",
    "\n",
    "    try:\n",
    "        return json.loads(cleaned_response)\n",
    "    except json.JSONDecodeError as e:\n",
    "        print(f\"❌ JSON Parsing Error: {e}\")\n",
    "        print(\"🔹 Raw Cleaned Response:\\n\", cleaned_response)\n",
    "        return {\"error\": \"Invalid JSON format\"}\n"
   ]
  },
  {
   "cell_type": "code",
   "execution_count": null,
   "metadata": {},
   "outputs": [],
   "source": [
    "with open(\"extracted_financial_data.json\", \"w\", encoding=\"utf-8\") as f:\n",
    "    json.dump(extracted_data, f, indent=4)\n",
    "\n",
    "print(\"✅ JSON file saved: extracted_financial_data.json\")\n"
   ]
  }
 ],
 "metadata": {
  "kernelspec": {
   "display_name": "venv",
   "language": "python",
   "name": "python3"
  },
  "language_info": {
   "codemirror_mode": {
    "name": "ipython",
    "version": 3
   },
   "file_extension": ".py",
   "mimetype": "text/x-python",
   "name": "python",
   "nbconvert_exporter": "python",
   "pygments_lexer": "ipython3",
   "version": "3.10.7"
  }
 },
 "nbformat": 4,
 "nbformat_minor": 2
}
